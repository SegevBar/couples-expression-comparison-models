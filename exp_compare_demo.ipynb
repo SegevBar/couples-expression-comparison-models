{
  "nbformat": 4,
  "nbformat_minor": 0,
  "metadata": {
    "colab": {
      "provenance": []
    },
    "kernelspec": {
      "name": "python3",
      "display_name": "Python 3"
    },
    "language_info": {
      "name": "python"
    }
  },
  "cells": [
    {
      "cell_type": "code",
      "source": [
        "# If running from google colab - run the following lines:\n",
        "! pip install -q condacolab\n",
        "import condacolab\n",
        "condacolab.install()\n",
        "\n",
        "# Else - make sure you have conda installed in your system - https://www.anaconda.com/download"
      ],
      "metadata": {
        "id": "uWPbxr_k6689"
      },
      "execution_count": null,
      "outputs": []
    },
    {
      "cell_type": "code",
      "execution_count": null,
      "metadata": {
        "id": "C1b24Lz142-Q"
      },
      "outputs": [],
      "source": [
        "# clone repo\n",
        "! git clone --recurse-submodules -j4 https://github.com/SegevBar/couples_expression_comparison_models.git\n",
        "%cd couples_expression_comparison_models/"
      ]
    },
    {
      "cell_type": "code",
      "source": [
        "# Set your running environment configuration:\n",
        "! bash setup.sh"
      ],
      "metadata": {
        "id": "__W2ulfk4-Br"
      },
      "execution_count": null,
      "outputs": []
    },
    {
      "cell_type": "code",
      "source": [
        "# Install Packages and Assets:\n",
        "! bash install.sh"
      ],
      "metadata": {
        "id": "Fm8Oz3XV81jE"
      },
      "execution_count": null,
      "outputs": []
    },
    {
      "cell_type": "code",
      "source": [
        "# Run the program script:\n",
        "! bash run_couples_expression_comparison_model.sh"
      ],
      "metadata": {
        "id": "U2HQS2j-87KG"
      },
      "execution_count": null,
      "outputs": []
    },
    {
      "cell_type": "code",
      "source": [
        "# Downlaod Results files\n",
        "! zip -r results.zip Results/\n",
        "from google.colab import files\n",
        "files.download('results.zip')"
      ],
      "metadata": {
        "id": "Sp2rk09A-sdM"
      },
      "execution_count": null,
      "outputs": []
    }
  ]
}