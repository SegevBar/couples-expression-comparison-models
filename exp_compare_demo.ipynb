{
  "cells": [
    {
      "cell_type": "code",
      "execution_count": null,
      "metadata": {
        "id": "uWPbxr_k6689"
      },
      "outputs": [],
      "source": [
        "# If running from google colab - run the following lines:\n",
        "! pip install -q condacolab\n",
        "import condacolab\n",
        "condacolab.install()\n",
        "\n",
        "# Else - make sure you have conda installed in your system - https://www.anaconda.com/download"
      ]
    },
    {
      "cell_type": "code",
      "execution_count": null,
      "metadata": {
        "id": "C1b24Lz142-Q"
      },
      "outputs": [],
      "source": [
        "# clone repo\n",
        "! git clone --recurse-submodules -j4 https://github.com/SegevBar/couples_expression_comparison_models.git\n",
        "%cd couples_expression_comparison_models/"
      ]
    },
    {
      "cell_type": "code",
      "execution_count": null,
      "metadata": {
        "id": "__W2ulfk4-Br"
      },
      "outputs": [],
      "source": [
        "# Set your running environment configuration:\n",
        "! bash setup.sh"
      ]
    },
    {
      "cell_type": "code",
      "execution_count": null,
      "metadata": {
        "id": "Fm8Oz3XV81jE"
      },
      "outputs": [],
      "source": [
        "# Install Packages and Assets:\n",
        "! bash install.sh"
      ]
    },
    {
      "cell_type": "code",
      "execution_count": null,
      "metadata": {
        "id": "U2HQS2j-87KG"
      },
      "outputs": [],
      "source": [
        "# Upload your videos to Data/ directory. The data should be video files of the format userid_coupleid_metadata.mp4 .\n",
        "# Run the program script:\n",
        "! bash run_couples_expression_comparison_model.sh\n",
        "\n",
        "# Downlaod Results files\n",
        "! zip -r results.zip Results/\n",
        "from google.colab import files\n",
        "files.download('results.zip')"
      ]
    }
  ],
  "metadata": {
    "colab": {
      "provenance": [],
      "gpuType": "V100",
      "machine_shape": "hm"
    },
    "kernelspec": {
      "display_name": "Python 3",
      "name": "python3"
    },
    "language_info": {
      "name": "python"
    },
    "accelerator": "GPU"
  },
  "nbformat": 4,
  "nbformat_minor": 0
}